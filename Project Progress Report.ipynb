{
 "cells": [
  {
   "cell_type": "markdown",
   "metadata": {},
   "source": [
    "# Runoff Event Based Precipitation Progress Report#\n",
    "\n",
    "**Name:** Elliott Carver <br/>\n",
    "**Semester:** Spring 2019 <br/>\n",
    "**Date:** March 19, 2019 <br/>\n",
    "\n",
    "#### <u>Background\n",
    "Phosphorus (P) loss from agricultural production is a significant contributor to surface water contamination. Excessive inputs of P to surface waters can lead to eutrophication, potentially causing an increase in algal and aquatic plant growth (Correll, 1998; Carpenter et al., 1998). Eutrophication, and associated harmful algal blooms, are conservatively estimated to cost the United States’ economy 2.4-4.6 billion dollars a year and it has been estimated that up to 70% of all P that reaches surface waters is linked to a nonpoint agricultural source (Havlin et al., 2005; Dodds et al., 2009). The linkage between nonpoint agricultural P pollution and the degradation of surface water quality has created a need for new agricultural best management practices (BMP) to reduce P loss. To do this, a multiyear, large-scale, trial was run to examine the impacts of cover-crops and phosphorus fertilizer placement on P loss in surface runoff from natural precipitation events. \n",
    "\n",
    "#### <u>Objective\n",
    "As part of this research project, precipitation data was recorded, at one-minute intervals, from five rain gauges located across the research site. Over the course of this project (5 years), this has generated a massive amount of data. This project aims to develop a program which enables the user to enter at start and end time of a precipitation event and be given a data set containing one-minute interval precipitation data plus precipitation summary statistics (e.g. 24, 48, and 72 hour rainfall and annual cumulative precipitation) for that precipitaiton event.  \n",
    "\n",
    "#### <u>Outcomes\n",
    "This project will create a .csv file which contains one-minute precipitation data for a given precipitation event. In addition, this code will also provide a set of summary statistics for the given precipitation event. \n",
    "    \n",
    "#### <u>Original Sketch\n",
    "<img src=\"WorkflowSketch.jpg\" alt=\"Workflow\" width=\"500\"/>\n",
    "\n",
    "#### <u>Updated Sketch\n",
    "<img src=\"NewWorkFlow.PNG\" alt=\"NewFlow\" width=\"500\"/> \n",
    "                                                \n",
    "#### <u>Progress\n",
    "Currently, succesfully able to load .csv file along with NumPy module into JupyterLab. Have started working to calculate average precipitation value for given runoff event\n",
    "\n",
    "<img src=\"pythonsnip.jpg\" alt=\"Code\" width=\"500\"/> \n",
    "                                                \n",
    "#### <u> Roadblocks\n",
    "**Missing Data** <br/>\n",
    "    Code should average together all sites which contain precipitiaton date for given date <br/>\n",
    "    \n",
    "**If statements and For Loops**\n",
    "\n",
    "#### <u>References\n",
    "\n",
    "Carpenter, S.R., N.F. Caraco, D.L. Correll, R.W. Howarth, A.N. Sharpley and V.H. Smith.  1998. Nonpoint pollution of surface waters with phosphorus and nitrogen. Ecological Applications. 8:559-568.\n",
    "    \n",
    "Correll, D. 1998. The role of phosphorus in the eutrophication of receiving waters: A review. J. Environ. Qual. 27:261-266.\n",
    "    \n",
    "Dodds, W.K., J.L. Eitzmann, T.J. Pilger, K.L. Pitts, A.J. Riley, J.T. Schloesser and D.J. Thornburgh. 2009. Eutrophication of U.S. freshwaters: Analysis of potential economic damages. Environ. Sci. Technol. 43:12-19.\n",
    "    \n",
    "Havlin, J.L., J.D. Beaton, S.L. Tisdale and W.L. Nelson. 2005. Soil fertility and fertilizers: An introduction to nutrient management. Pearson Education, Upper Saddle River, New Jersey.\n"
   ]
  }
 ],
 "metadata": {
  "kernelspec": {
   "display_name": "Python 3",
   "language": "python",
   "name": "python3"
  },
  "language_info": {
   "codemirror_mode": {
    "name": "ipython",
    "version": 3
   },
   "file_extension": ".py",
   "mimetype": "text/x-python",
   "name": "python",
   "nbconvert_exporter": "python",
   "pygments_lexer": "ipython3",
   "version": "3.7.1"
  }
 },
 "nbformat": 4,
 "nbformat_minor": 2
}
