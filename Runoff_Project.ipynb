{
 "cells": [
  {
   "cell_type": "markdown",
   "metadata": {},
   "source": [
    "# Cumulative Precipitation from Surface Runoff Events#\n",
    "##### Elliott Carver #####"
   ]
  },
  {
   "cell_type": "markdown",
   "metadata": {},
   "source": [
    "### <u>NOTES\n",
    "This code reads in a data file which contains daily precipitation values for 4 rain gauges located at our research site ( indiated by column names: 104, 105, 304, 305) plus the local mesonet weather station (located approximatley 0.5 miles away). All missing datas are indicated as NaNs. The 'Average_Precip' column calculates the corrected precipitation value for the given timepoint at the research location. Corrected precipitation is calculated as follows <br/>\n",
    "\n",
    "- If all research sites are present (i.e. no NaN): Average of sites 104, 105, 304, and 305\n",
    "- If any research site is missing (i.e. NaN is present): Caluclate average by replacing missing research site value with value from Mesonet  "
   ]
  },
  {
   "cell_type": "code",
   "execution_count": 30,
   "metadata": {},
   "outputs": [],
   "source": [
    "#Import modules \n",
    "import numpy as np\n",
    "import pandas as pd\n",
    "import datetime"
   ]
  },
  {
   "cell_type": "code",
   "execution_count": 31,
   "metadata": {},
   "outputs": [],
   "source": [
    "#Raw data file\n",
    "dataset_dir = '/Users/Elliott/Desktop/Coding/Project/'\n",
    "filename = 'DailyData1.csv'"
   ]
  },
  {
   "cell_type": "code",
   "execution_count": 32,
   "metadata": {},
   "outputs": [],
   "source": [
    "#Import raw data file\n",
    "precip = pd.read_csv(dataset_dir + filename)\n",
    "precip['Average_Precip']= np.nan # Adds a new empty (i.e.  NaN filled) column to datafram\n"
   ]
  },
  {
   "cell_type": "code",
   "execution_count": 33,
   "metadata": {},
   "outputs": [
    {
     "name": "stderr",
     "output_type": "stream",
     "text": [
      "C:\\Users\\Elliott\\Anaconda3\\lib\\site-packages\\ipykernel_launcher.py:4: SettingWithCopyWarning: \n",
      "A value is trying to be set on a copy of a slice from a DataFrame\n",
      "\n",
      "See the caveats in the documentation: http://pandas.pydata.org/pandas-docs/stable/indexing.html#indexing-view-versus-copy\n",
      "  after removing the cwd from sys.path.\n",
      "C:\\Users\\Elliott\\Anaconda3\\lib\\site-packages\\ipykernel_launcher.py:7: SettingWithCopyWarning: \n",
      "A value is trying to be set on a copy of a slice from a DataFrame\n",
      "\n",
      "See the caveats in the documentation: http://pandas.pydata.org/pandas-docs/stable/indexing.html#indexing-view-versus-copy\n",
      "  import sys\n"
     ]
    }
   ],
   "source": [
    "# Nan Loop: this loop is a test to determine if each cell is a NaN or not. If a research site (104, 105, 303, or 304) contains a NaN then the average of all five columns is listed under Average_Precip. If no cells contain a Nana, then the average of only the 4 research site columns is computed and reported under the Average_Precip column\n",
    "for x in range(0, len(precip.Date)):\n",
    "    if pd.isna(precip['104'][x]) == True | pd.isna(precip['105'][x]) == True | pd.isna(precip['303'][x]) == True | pd.isna(precip['304'][x]) == True:\n",
    "        precip.Average_Precip[x] = np.mean(precip.iloc[x, 1:6])\n",
    "    \n",
    "    else:\n",
    "        precip.Average_Precip[x] = np.mean(precip.iloc[x, 2:6])\n",
    "\n",
    "#precip"
   ]
  },
  {
   "cell_type": "code",
   "execution_count": 34,
   "metadata": {},
   "outputs": [],
   "source": [
    "# Dates were initally read in as strings; therefore, dates must be converted using the datetime module\n",
    "precip['Date'] = pd.to_datetime(precip['Date'], format='%m/%d/%Y')\n",
    "#precip"
   ]
  },
  {
   "cell_type": "code",
   "execution_count": 35,
   "metadata": {},
   "outputs": [],
   "source": [
    "# Creates a mask allowing the user to determine which range of dates will be summed together to determine total precipitation\n",
    "date_mask = (precip['Date'] >= '3/30/2017') & (precip['Date'] <= '4/17/2017')\n",
    "#date_mask"
   ]
  },
  {
   "cell_type": "code",
   "execution_count": 41,
   "metadata": {},
   "outputs": [
    {
     "name": "stdout",
     "output_type": "stream",
     "text": [
      "Total precipitation is: 2.7900000000000005\n"
     ]
    }
   ],
   "source": [
    "# Calculates the sum of all precipitation values for each research site, mesonet location, and the accepted 'Average Precip'\n",
    "a = precip[date_mask].sum()\n",
    "total_precip = precip.loc[date_mask,'Average_Precip'].sum()\n",
    "print('Total precipitation is:', (total_precip))\n"
   ]
  },
  {
   "cell_type": "code",
   "execution_count": 44,
   "metadata": {},
   "outputs": [
    {
     "name": "stdout",
     "output_type": "stream",
     "text": [
      "         Date  Mesonet  104  105  303   304  Average_Precip\n",
      "2  2017-03-30     0.14  NaN  NaN  NaN  0.13           0.135\n",
      "3  2017-03-31     0.00  NaN  NaN  NaN  0.01           0.005\n",
      "4  2017-04-01     0.07  NaN  NaN  NaN  0.04           0.055\n",
      "5  2017-04-02     0.07  NaN  NaN  NaN  0.06           0.065\n",
      "6  2017-04-03     0.73  NaN  NaN  NaN  0.72           0.725\n",
      "7  2017-04-04     0.97  NaN  NaN  NaN  0.86           0.915\n",
      "8  2017-04-05     0.29  NaN  NaN  NaN  0.41           0.350\n",
      "9  2017-04-06     0.00  NaN  NaN  NaN  0.00           0.000\n",
      "10 2017-04-07     0.00  NaN  NaN  NaN  0.00           0.000\n",
      "11 2017-04-08     0.00  NaN  NaN  NaN  0.00           0.000\n",
      "12 2017-04-09     0.00  NaN  NaN  NaN  0.00           0.000\n",
      "13 2017-04-10     0.00  NaN  NaN  NaN  0.00           0.000\n",
      "14 2017-04-11     0.00  NaN  NaN  NaN  0.00           0.000\n",
      "15 2017-04-12     0.14  NaN  NaN  NaN  0.15           0.145\n",
      "16 2017-04-13     0.05  NaN  NaN  NaN  0.00           0.025\n",
      "17 2017-04-14     0.08  NaN  NaN  NaN  0.13           0.105\n",
      "18 2017-04-15     0.04  NaN  NaN  NaN  0.07           0.055\n",
      "19 2017-04-16     0.23  NaN  NaN  NaN  0.18           0.205\n",
      "20 2017-04-17     0.00  NaN  NaN  NaN  0.01           0.005\n"
     ]
    }
   ],
   "source": [
    "# Display snipped data frame (i.e. only values for precipitation event) and export datafram to .csv\n",
    "print(precip[date_mask])\n",
    "\n",
    "# Export snipped data frame to a .csv\n",
    "export_csv = precip[date_mask].to_csv(r'/Users/Elliott/Desktop/Total_Precip.csv', index = None, header = True)"
   ]
  }
 ],
 "metadata": {
  "kernelspec": {
   "display_name": "Python 3",
   "language": "python",
   "name": "python3"
  },
  "language_info": {
   "codemirror_mode": {
    "name": "ipython",
    "version": 3
   },
   "file_extension": ".py",
   "mimetype": "text/x-python",
   "name": "python",
   "nbconvert_exporter": "python",
   "pygments_lexer": "ipython3",
   "version": "3.7.1"
  }
 },
 "nbformat": 4,
 "nbformat_minor": 2
}
