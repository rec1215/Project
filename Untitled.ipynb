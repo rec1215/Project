{
 "cells": [
  {
   "cell_type": "markdown",
   "metadata": {},
   "source": [
    "### 3-Minute Progress Report ###\n",
    "\n",
    "- Goal and rational of the project\n",
    "- Project diagram/sketch\n",
    "- Current progress and roadblocks\n",
    "\n",
    "#### No powerpoint --> Only GitHub ####\n",
    "\n",
    "#### Use Jupyter Lab (code + Markdown + Images + example datasets ) ####"
   ]
  }
 ],
 "metadata": {
  "kernelspec": {
   "display_name": "Python 3",
   "language": "python",
   "name": "python3"
  },
  "language_info": {
   "codemirror_mode": {
    "name": "ipython",
    "version": 3
   },
   "file_extension": ".py",
   "mimetype": "text/x-python",
   "name": "python",
   "nbconvert_exporter": "python",
   "pygments_lexer": "ipython3",
   "version": "3.7.1"
  }
 },
 "nbformat": 4,
 "nbformat_minor": 2
}
